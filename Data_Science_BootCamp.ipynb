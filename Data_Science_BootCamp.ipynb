{
  "nbformat": 4,
  "nbformat_minor": 0,
  "metadata": {
    "colab": {
      "name": "Data Science BootCamp",
      "provenance": [],
      "authorship_tag": "ABX9TyMKUhVuLdplUbC7+/gQrlKS",
      "include_colab_link": true
    },
    "kernelspec": {
      "name": "python3",
      "display_name": "Python 3"
    },
    "language_info": {
      "name": "python"
    }
  },
  "cells": [
    {
      "cell_type": "markdown",
      "metadata": {
        "id": "view-in-github",
        "colab_type": "text"
      },
      "source": [
        "<a href=\"https://colab.research.google.com/github/patryknextdoor/Adventures-in-Financial-Data-Science/blob/main/Data_Science_BootCamp.ipynb\" target=\"_parent\"><img src=\"https://colab.research.google.com/assets/colab-badge.svg\" alt=\"Open In Colab\"/></a>"
      ]
    },
    {
      "cell_type": "markdown",
      "source": [
        "# **STATISTICS  PROBABILITY AND LINEAR ALGEBRA**"
      ],
      "metadata": {
        "id": "uyalK0UI0Yrw"
      }
    },
    {
      "cell_type": "markdown",
      "source": [
        "# Vectors - tablica liczb\n",
        "\n",
        "Wektor to tablica liczb, których\n",
        "identyfikacja jest możliwa za pomocą\n",
        "indeksu określającego położenie.\n",
        "Wektory identyfikują punkty w\n",
        "przestrzeni. Załóżmy, że mamy wektor\n",
        "x. Pierwszym elementem tego wektora\n",
        "jest x1, drugim x2, a ostatnim xn, co\n",
        "przedstawiono na poniższym rysunku:"
      ],
      "metadata": {
        "id": "UInMbWRB0h70"
      }
    },
    {
      "cell_type": "markdown",
      "source": [
        ""
      ],
      "metadata": {
        "id": "D2MSkv0M0Ykp"
      }
    },
    {
      "cell_type": "code",
      "source": [
        "import numpy as np"
      ],
      "metadata": {
        "id": "1klpOCCFzvUE"
      },
      "execution_count": 3,
      "outputs": []
    },
    {
      "cell_type": "code",
      "source": [
        "A = np.array([3,6,8,1]) # wektor jako wiersz 7 row\n",
        "A"
      ],
      "metadata": {
        "colab": {
          "base_uri": "https://localhost:8080/"
        },
        "id": "QSLowkw5z3oP",
        "outputId": "00c27bd0-e34c-494b-b78e-01dd454aaf13"
      },
      "execution_count": 4,
      "outputs": [
        {
          "output_type": "execute_result",
          "data": {
            "text/plain": [
              "array([3, 6, 8, 1])"
            ]
          },
          "metadata": {},
          "execution_count": 4
        }
      ]
    },
    {
      "cell_type": "code",
      "source": [
        ""
      ],
      "metadata": {
        "id": "CtvEYaJa0A6l"
      },
      "execution_count": null,
      "outputs": []
    }
  ]
}